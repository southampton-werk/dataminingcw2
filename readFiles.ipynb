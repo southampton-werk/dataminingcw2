{
 "cells": [
  {
   "cell_type": "code",
   "execution_count": 6,
   "metadata": {},
   "outputs": [
    {
     "name": "stdout",
     "output_type": "stream",
     "text": [
      "gap_aLcWAAAAQAAJ\n",
      "gap_RqMNAAAAYAAJ\n",
      "gap_-C0BAAAAQAAJ\n",
      "gap_fnAMAAAAYAAJ\n",
      "gap_2X5KAAAAYAAJ\n",
      "gap_TgpMAAAAYAAJ\n",
      "gap_Bdw_AAAAYAAJ\n",
      "gap_CSEUAAAAYAAJ\n",
      "gap_9ksIAAAAQAAJ\n",
      "gap_DhULAAAAYAAJ\n",
      "gap_MEoWAAAAYAAJ\n",
      "gap_CnnUAAAAMAAJ\n",
      "gap_udEIAAAAQAAJ\n",
      "gap_WORMAAAAYAAJ\n",
      "gap_dIkBAAAAQAAJ\n",
      "gap_GIt0HMhqjRgC\n",
      "gap_y-AvAAAAYAAJ\n",
      "gap_ogsNAAAAIAAJ\n",
      "gap_pX5KAAAAYAAJ\n",
      "gap_VPENAAAAQAAJ\n",
      "gap_m_6B1DkImIoC\n",
      "gap_DqQNAAAAYAAJ\n",
      "gap_IlUMAQAAMAAJ\n",
      "gap_XmqHlMECi6kC\n"
     ]
    }
   ],
   "source": [
    "from __future__ import division, unicode_literals \n",
    "import codecs\n",
    "from bs4 import BeautifulSoup\n",
    "\n",
    "import os\n",
    "documentsPaths  = os.listdir(\"./gap-html\")\n",
    "\n",
    "books = []\n",
    "pages = []\n",
    "count = 0\n",
    "for documentPath in documentsPaths:\n",
    "    print(documentPath)\n",
    "    documents = os.listdir(\"./gap-html/\"+documentPath)\n",
    "    for document in sorted(documents):\n",
    "        f=codecs.open(\"./gap-html/\"+documentPath+\"/\"+document, 'r', 'utf-8')\n",
    "        documentPage = BeautifulSoup(f.read()).get_text()    \n",
    "        documentPage = documentPage.replace(\"OCR Output\",\"\")\n",
    "        book += documentPage\n",
    "        pages.append([documentPage,count])\n",
    "    books.append(book)\n",
    "    count += 1\n"
   ]
  },
  {
   "cell_type": "code",
   "execution_count": 9,
   "metadata": {},
   "outputs": [],
   "source": [
    "\n",
    "import pickle\n",
    "with open('books', 'wb') as output:\n",
    "    pickle.dump(books, output, pickle.HIGHEST_PROTOCOL)\n",
    "    \n",
    "with open('pages', 'wb') as output:\n",
    "    pickle.dump(pages, output, pickle.HIGHEST_PROTOCOL)    \n"
   ]
  },
  {
   "cell_type": "code",
   "execution_count": null,
   "metadata": {},
   "outputs": [],
   "source": []
  }
 ],
 "metadata": {
  "kernelspec": {
   "display_name": "Python 3",
   "language": "python",
   "name": "python3"
  },
  "language_info": {
   "codemirror_mode": {
    "name": "ipython",
    "version": 3
   },
   "file_extension": ".py",
   "mimetype": "text/x-python",
   "name": "python",
   "nbconvert_exporter": "python",
   "pygments_lexer": "ipython3",
   "version": "3.6.7"
  }
 },
 "nbformat": 4,
 "nbformat_minor": 2
}
